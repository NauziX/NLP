{
 "cells": [
  {
   "cell_type": "markdown",
   "id": "23a6efe6",
   "metadata": {},
   "source": [
    "Etapa de preprocesado de texto\n",
    "\n",
    " El alumno preparará una etapa de preprocesado de reviews que permita adecuar\n",
    " el formato de las mismas a uno más adecuado. Será la etapa previa al entrenamiento del\n",
    " modelo de sentimiento.\n",
    " Todo el preprocesado deberá incluirse en una función de Python que contenga\n",
    " todo el procesado de texto. Esta función puede (es recomendable) contener otras funciones"
   ]
  },
  {
   "cell_type": "code",
   "execution_count": 1,
   "id": "5d8d0b90",
   "metadata": {},
   "outputs": [],
   "source": [
    "import pandas as pd\n",
    "import numpy as np\n",
    "import re, unicodedata, contractions, spacy\n",
    "from sklearn.feature_extraction.text import CountVectorizer, TfidfVectorizer\n",
    "from sklearn.linear_model      import LogisticRegression\n",
    "from sklearn.svm               import LinearSVC\n",
    "from sklearn.pipeline          import Pipeline\n",
    "from sklearn.metrics           import (\n",
    "    classification_report, f1_score,\n",
    "    confusion_matrix, ConfusionMatrixDisplay\n",
    ")\n",
    "from nltk.corpus import stopwords        # ← aquí está stopwords\n",
    "from nltk.stem import SnowballStemmer\n",
    "from sklearn.model_selection   import cross_val_score, StratifiedKFold,StratifiedGroupKFold,GridSearchCV\n",
    "import matplotlib.pyplot as plt\n",
    "import seaborn as sns\n",
    "from sklearn.model_selection import GroupShuffleSplit\n",
    "import nltk\n",
    "sns.set_theme(style=\"whitegrid\")"
   ]
  },
  {
   "cell_type": "markdown",
   "id": "43ee3fea",
   "metadata": {},
   "source": [
    "Cargamos el JSON"
   ]
  },
  {
   "cell_type": "code",
   "execution_count": 2,
   "id": "7606c839",
   "metadata": {},
   "outputs": [],
   "source": [
    "#leemos nuestro dataset\n",
    "df = pd.read_json(\"Datasets\\Video_Games_5.json\", lines=True)"
   ]
  },
  {
   "cell_type": "code",
   "execution_count": 3,
   "id": "a884fe9e",
   "metadata": {},
   "outputs": [
    {
     "name": "stdout",
     "output_type": "stream",
     "text": [
      "label\n",
      "1    0.754979\n",
      "0    0.245021\n",
      "Name: proportion, dtype: float64\n"
     ]
    }
   ],
   "source": [
    "# 1. Etiqueta binaria\n",
    "df['label'] = (df.overall >= 4).astype(int)   # 1 = positivo, 0 = negativo\n",
    "\n",
    "# 2. Verifica proporciones\n",
    "print(df.label.value_counts(normalize=True))"
   ]
  },
  {
   "cell_type": "markdown",
   "id": "509ac68f",
   "metadata": {},
   "source": [
    "El enunciado exige un problema de clasificación binaria.\n",
    "\n",
    "Un umbral ≥ 4 es la convención habitual en Amazon: 4-5 se consideran reseñas favorables, ≤ 3 son críticas o neutras que suelen alinearse con “no recomendaría”.\n",
    "Agrupar 3 con las negativas reduce el desequilibrio extremo y simplifica la tarea (menos ambigüedad que con tres clases)."
   ]
  },
  {
   "cell_type": "code",
   "execution_count": 4,
   "id": "f8853b9f",
   "metadata": {},
   "outputs": [],
   "source": [
    "gss = GroupShuffleSplit(n_splits=1, test_size=0.20, random_state=42)\n",
    "train_idx, test_idx = next(\n",
    "        gss.split(df, y=df['label'], groups=df['asin'])\n",
    ")\n",
    "train_df = df.iloc[train_idx]\n",
    "test_df  = df.iloc[test_idx]"
   ]
  },
  {
   "cell_type": "code",
   "execution_count": 5,
   "id": "865652b2",
   "metadata": {},
   "outputs": [
    {
     "name": "stdout",
     "output_type": "stream",
     "text": [
      "train label\n",
      "1    0.757595\n",
      "0    0.242405\n",
      "Name: proportion, dtype: float64\n",
      "test label\n",
      "1    0.744394\n",
      "0    0.255606\n",
      "Name: proportion, dtype: float64\n"
     ]
    }
   ],
   "source": [
    "for name, part in [('train', train_df), ('test', test_df)]:\n",
    "    print(name, part.label.value_counts(normalize=True))"
   ]
  },
  {
   "cell_type": "markdown",
   "id": "e303e98d",
   "metadata": {},
   "source": [
    "Protección contra data leakage: si un mismo asin apareciera en ambos sets, el modelo “vería” en test vocabulario idéntico al de train.\n",
    "\n",
    "Estratificación: conserva el desbalance original, lo que hace que las métricas de test reflejen la realidad del corpus."
   ]
  },
  {
   "cell_type": "code",
   "execution_count": 6,
   "id": "acac7444",
   "metadata": {},
   "outputs": [
    {
     "data": {
      "text/plain": [
       "True"
      ]
     },
     "execution_count": 6,
     "metadata": {},
     "output_type": "execute_result"
    }
   ],
   "source": [
    "nltk.download('stopwords', quiet=True)"
   ]
  },
  {
   "cell_type": "code",
   "execution_count": 7,
   "id": "657fb5f7",
   "metadata": {},
   "outputs": [],
   "source": [
    "_stop_es = set(stopwords.words('english'))\n",
    "_stemmer  = SnowballStemmer('english') "
   ]
  },
  {
   "cell_type": "code",
   "execution_count": 8,
   "id": "33d88fd5",
   "metadata": {},
   "outputs": [],
   "source": [
    "from spacy.lang.en.stop_words import STOP_WORDS\n",
    "\n",
    "STOP_WORDS -= {\"no\", \"not\"}\n",
    "\n",
    "nlp = spacy.load(\"en_core_web_sm\", disable=[\"ner\", \"parser\"])\n",
    "\n",
    "def clean_text(text: str, nlp_model=nlp, min_len=2, return_str=True):\n",
    "    text = str(text).lower()\n",
    "    text = contractions.fix(text)\n",
    "\n",
    "    # quitar todo menos letras y apóstrofe\n",
    "    text = re.sub(r\"[^a-z\\s']\", \" \", text)\n",
    "    text = re.sub(r\"\\s+\", \" \", text).strip()\n",
    "\n",
    "    # normalizar a ASCII\n",
    "    text = unicodedata.normalize(\"NFKD\", text).encode(\"ascii\", \"ignore\").decode()\n",
    "\n",
    "    doc = nlp_model(text)\n",
    "    tokens = [tok.lemma_ for tok in doc\n",
    "              if (tok.lemma_ not in STOP_WORDS) and len(tok) >= min_len]\n",
    "\n",
    "    return ' '.join(tokens) if return_str else tokens\n",
    "\n"
   ]
  },
  {
   "cell_type": "markdown",
   "id": "8162dc7e",
   "metadata": {},
   "source": [
    "\n",
    "\n",
    "| Paso | Qué hace | ¿Por qué es útil? |\n",
    "|------|----------|-------------------|\n",
    "| **1. Minúsculas + expansión de contracciones**<br>`text = text.lower()`<br>`contractions.fix(text)` | Normaliza *Great* ↔ *great* y convierte *don't → do not*, *can't → cannot*. | Evita que “Great” y “great” cuenten como tokens distintos y mejora la detección de negaciones. |\n",
    "| **2. Limpieza de caracteres**<br>`re.sub('[^a-z\\']', ' ', …)`<br>`unicodedata.normalize('NFKD') → .encode('ascii','ignore')` | Elimina números, signos, emojis & acentos: *cliché* → *cliche*. | Reduce ruido y deja solo texto alfabético listo para tokenizar. |\n",
    "| **3. Tokenización + lematización con SpaCy**<br>`doc = nlp(text)`<br>`tok.lemma_` | Convierte “playing”, “played” → “play”. | Une variantes morfológicas ⇢ menos sparsidad en el modelo (mejor generalización). |\n",
    "| **4. Filtro de stop-words**<br>`if lemma not in STOP_WORDS …`<br>`STOP_WORDS = {\"no\",\"not\"}` *(se conservan)* | Quita palabras vacías (*the, and, of*). Se conservan **negaciones** para no perder el giro semántico. | Mejora la relación señal/ruido; las negaciones son críticas para sentimiento. |\n",
    "| **5. Restricción de longitud**<br>`len(tok) ≥ min_len` | Descarta tokens de 1 carácter y restos sin valor (“s”, “x”). | Evita crear features irrelevantes. |\n",
    "| **6. Reconstrucción**<br>`' '.join(tokens)` | Devuelve la review limpia como *string* lematizado. | Compatible con cualquier vectorizador (Count / TF-IDF). |\n",
    "\n",
    "**Resultado:**  \n",
    "Una columna `clean` (o `clean_text`) lista para *Bag-of-Words*, más compacta (≈ 75 % vocabulario menos) y con negaciones intactas → entrenamiento más rápido y modelo de sentimiento más robusto.\n"
   ]
  },
  {
   "cell_type": "code",
   "execution_count": 9,
   "id": "562eb4e7",
   "metadata": {},
   "outputs": [
    {
     "name": "stderr",
     "output_type": "stream",
     "text": [
      "C:\\Users\\Nauzet\\AppData\\Local\\Temp\\ipykernel_3488\\3830377257.py:2: SettingWithCopyWarning: \n",
      "A value is trying to be set on a copy of a slice from a DataFrame.\n",
      "Try using .loc[row_indexer,col_indexer] = value instead\n",
      "\n",
      "See the caveats in the documentation: https://pandas.pydata.org/pandas-docs/stable/user_guide/indexing.html#returning-a-view-versus-a-copy\n",
      "  df_['clean'] = df_.reviewText.apply(clean_text)\n"
     ]
    },
    {
     "name": "stdout",
     "output_type": "stream",
     "text": [
      "train ejemplo ▶ work good not like new little not important defect appearance good work fantastic ...\n",
      "test  ejemplo ▶ instal game struggle game window live bug championship race car unlock buy addon game pay nearly dollar game new not lik ...\n"
     ]
    },
    {
     "name": "stderr",
     "output_type": "stream",
     "text": [
      "C:\\Users\\Nauzet\\AppData\\Local\\Temp\\ipykernel_3488\\3830377257.py:2: SettingWithCopyWarning: \n",
      "A value is trying to be set on a copy of a slice from a DataFrame.\n",
      "Try using .loc[row_indexer,col_indexer] = value instead\n",
      "\n",
      "See the caveats in the documentation: https://pandas.pydata.org/pandas-docs/stable/user_guide/indexing.html#returning-a-view-versus-a-copy\n",
      "  df_['clean'] = df_.reviewText.apply(clean_text)\n"
     ]
    }
   ],
   "source": [
    "for name, df_ in [('train', train_df), ('test', test_df)]:\n",
    "    df_['clean'] = df_.reviewText.apply(clean_text)\n",
    "    print(f\"{name:5s} ejemplo ▶\", df_.clean.iloc[0][:120], '...')\n"
   ]
  },
  {
   "cell_type": "code",
   "execution_count": 10,
   "id": "0f292a5c",
   "metadata": {},
   "outputs": [
    {
     "name": "stdout",
     "output_type": "stream",
     "text": [
      "Vocabulario final: 469543\n"
     ]
    }
   ],
   "source": [
    "vec = CountVectorizer(\n",
    "        ngram_range=(1, 2),  \n",
    "        min_df=5,            \n",
    "        max_df=0.80,         \n",
    "        binary=False,        \n",
    "        lowercase=False)     \n",
    "\n",
    "\n",
    "X_train_vec = vec.fit_transform(train_df.clean)\n",
    "X_test_vec  = vec.transform(test_df.clean)\n",
    "\n",
    "y_train = train_df.label.values\n",
    "y_test  = test_df.label.values\n",
    "\n",
    "print(\"Vocabulario final:\", len(vec.vocabulary_))"
   ]
  },
  {
   "cell_type": "markdown",
   "id": "85d920e1",
   "metadata": {},
   "source": [
    "### Vectorización Bag-of-Words:\n",
    "\n",
    "**Resultado**  \n",
    "* `vec.fit_transform(train_df.clean)` genera una matriz **X_train_vec** (≈ 185 k × 470 k) dispersa en  \n",
    "* Vocabulario final **469 543 tokens**: un balance razonable entre riqueza léxica y coste computacional.  \n",
    "* Mismo vectorizador se reutiliza en **test** con `.transform()` para garantizar que **no** se filtra información del futuro al entrenar.\n",
    "\n",
    "\n",
    "\n"
   ]
  },
  {
   "cell_type": "code",
   "execution_count": 11,
   "id": "e6976537",
   "metadata": {},
   "outputs": [],
   "source": [
    "# ① Regresión logística (sensible a probabilidades)\n",
    "log_reg = LogisticRegression(\n",
    "            max_iter=1000,\n",
    "            class_weight='balanced',\n",
    "            n_jobs=-1,\n",
    "            solver='liblinear')\n",
    "\n",
    "# ② SVM lineal (margin maximization)\n",
    "svm_lin = LinearSVC(\n",
    "            class_weight='balanced',\n",
    "            C=1.0)\n",
    "\n",
    "models = {'LogReg': log_reg, 'SVM': svm_lin}"
   ]
  },
  {
   "cell_type": "markdown",
   "id": "8f732bf5",
   "metadata": {},
   "source": [
    "**Por qué solo modelos lineales**  \n",
    "> Con ~470 k features, los algoritmos kernelizados (SVM RBF) o ensambles (Random Forest) se vuelven inviables en tiempo y RAM.  \n",
    "> Los lineales aprovechan la *alta dimensionalidad* sin requerir ingeniería extra ni GPU."
   ]
  },
  {
   "cell_type": "code",
   "execution_count": 12,
   "id": "7256a283",
   "metadata": {},
   "outputs": [
    {
     "name": "stderr",
     "output_type": "stream",
     "text": [
      "c:\\Users\\Nauzet\\AppData\\Local\\Programs\\Python\\Python311\\Lib\\site-packages\\sklearn\\linear_model\\_logistic.py:1271: UserWarning: 'n_jobs' > 1 does not have any effect when 'solver' is set to 'liblinear'. Got 'n_jobs' = 4.\n",
      "  warnings.warn(\n"
     ]
    },
    {
     "name": "stdout",
     "output_type": "stream",
     "text": [
      "\n",
      "F1-macro en TEST: {'LogReg': 0.804815876076783, 'SVM': 0.7786973904678933}\n",
      "\n",
      " Mejor modelo: **LogReg**\n",
      "\n",
      "              precision    recall  f1-score   support\n",
      "\n",
      "           0      0.703     0.718     0.710     11740\n",
      "           1      0.902     0.896     0.899     34190\n",
      "\n",
      "    accuracy                          0.850     45930\n",
      "   macro avg      0.803     0.807     0.805     45930\n",
      "weighted avg      0.852     0.850     0.851     45930\n",
      "\n"
     ]
    },
    {
     "name": "stderr",
     "output_type": "stream",
     "text": [
      "c:\\Users\\Nauzet\\AppData\\Local\\Programs\\Python\\Python311\\Lib\\site-packages\\sklearn\\svm\\_base.py:1249: ConvergenceWarning: Liblinear failed to converge, increase the number of iterations.\n",
      "  warnings.warn(\n"
     ]
    }
   ],
   "source": [
    "\n",
    "scores  = {}\n",
    "reports = {}\n",
    "\n",
    "for name, mdl in models.items():\n",
    "    \n",
    "    mdl.fit(X_train_vec, y_train)\n",
    "    y_pred = mdl.predict(X_test_vec)\n",
    "\n",
    "    f1 = f1_score(y_test, y_pred, average='macro')\n",
    "    scores[name]  = f1\n",
    "    reports[name] = classification_report(y_test, y_pred, digits=3)\n",
    "\n",
    "\n",
    "print(\"\\nF1-macro en TEST:\", scores)\n",
    "\n",
    "best_name  = max(scores, key=scores.get)\n",
    "best_model = models[best_name]\n",
    "\n",
    "print(f\"\\n Mejor modelo: **{best_name}**\\n\")\n",
    "print(reports[best_name])"
   ]
  },
  {
   "cell_type": "markdown",
   "id": "bc3d0579",
   "metadata": {},
   "source": [
    "***LogisticRegression*** se impone con ~ 0 .805 de F1-macro.\n",
    "\n",
    "Interpretación: la frontera lineal ponderada capta bien la señal BoW; la regularización L2 evita sobre-ajuste.\n",
    "\n",
    "Debilidad: menor recall en la clase negativa (0 .72) posibles falsos negativos.\n",
    "podría refinarse ajustando class_weight o usando un umbral distinto (basado enprobabilidades).\n",
    "\n",
    "LinearSVC se queda 3 p.p. por debajo. En este dataset la optimización de margen sin probabilidades penaliza la clase minoritaria."
   ]
  },
  {
   "cell_type": "code",
   "execution_count": 13,
   "id": "7cce1a12",
   "metadata": {},
   "outputs": [
    {
     "name": "stdout",
     "output_type": "stream",
     "text": [
      "Fitting 5 folds for each of 6 candidates, totalling 30 fits\n",
      "Mejor combinación: {'svc__C': 0.5, 'tfidf__max_features': 60000}\n",
      "F1-macro CV: 0.803\n"
     ]
    }
   ],
   "source": [
    "pipe = Pipeline([\n",
    "    ('tfidf', TfidfVectorizer(lowercase=False,\n",
    "                              ngram_range=(1,2),\n",
    "                              min_df=5,\n",
    "                              max_df=0.80,\n",
    "                              sublinear_tf=True)),\n",
    "    ('svc',   LinearSVC(class_weight='balanced'))\n",
    "])\n",
    "\n",
    "param_grid = {\n",
    "    'tfidf__max_features': [35_000, 60_000],\n",
    "    'svc__C':              [0.5, 1.0, 2.0]\n",
    "}\n",
    "\n",
    "cv = StratifiedGroupKFold(n_splits=5, shuffle=True, random_state=42)\n",
    "\n",
    "gs = GridSearchCV(\n",
    "        pipe,\n",
    "        param_grid=param_grid,\n",
    "        cv=cv,              # sólo aquí\n",
    "        scoring='f1_macro',\n",
    "        n_jobs=-1,\n",
    "        verbose=2)\n",
    "\n",
    "\n",
    "gs.fit(train_df.clean, train_df.label, groups=train_df.asin)\n",
    "\n",
    "print(\"Mejor combinación:\", gs.best_params_)\n",
    "print(\"F1-macro CV:\", round(gs.best_score_, 3))\n",
    "\n"
   ]
  },
  {
   "cell_type": "code",
   "execution_count": 14,
   "id": "f9733d15",
   "metadata": {},
   "outputs": [
    {
     "name": "stderr",
     "output_type": "stream",
     "text": [
      "c:\\Users\\Nauzet\\AppData\\Local\\Programs\\Python\\Python311\\Lib\\site-packages\\sklearn\\linear_model\\_logistic.py:1271: UserWarning: 'n_jobs' > 1 does not have any effect when 'solver' is set to 'liblinear'. Got 'n_jobs' = 4.\n",
      "  warnings.warn(\n",
      "c:\\Users\\Nauzet\\AppData\\Local\\Programs\\Python\\Python311\\Lib\\site-packages\\sklearn\\svm\\_base.py:1249: ConvergenceWarning: Liblinear failed to converge, increase the number of iterations.\n",
      "  warnings.warn(\n"
     ]
    }
   ],
   "source": [
    "\n",
    "best_svc = gs.best_estimator_    \n",
    "\n",
    "scores  = {}\n",
    "reports = {}\n",
    "\n",
    "for name, mdl in models.items():\n",
    "    mdl.fit(X_train_vec, y_train)          # entrena con la matriz conteos\n",
    "    y_pred = mdl.predict(X_test_vec)\n",
    "\n",
    "    scores[name]  = f1_score(y_test, y_pred, average='macro')\n",
    "    reports[name] = classification_report(y_test, y_pred, digits=3)\n",
    "\n",
    "\n",
    "best_svc.fit(train_df.clean, train_df.label)        # ajuste final\n",
    "y_pred_svc = best_svc.predict(test_df.clean)\n",
    "\n",
    "f1_svc = f1_score(test_df.label, y_pred_svc, average='macro')\n",
    "scores['LinearSVC']  = f1_svc\n",
    "reports['LinearSVC'] = classification_report(test_df.label, y_pred_svc, digits=3)\n",
    "\n",
    "\n",
    "\n"
   ]
  },
  {
   "cell_type": "code",
   "execution_count": 15,
   "id": "55b4f262",
   "metadata": {},
   "outputs": [
    {
     "name": "stdout",
     "output_type": "stream",
     "text": [
      "\n",
      "F1-macro en TEST: {'LogReg': 0.804815876076783, 'SVM': 0.7786523157279395, 'LinearSVC': 0.8059603818075739}\n",
      "\n",
      " Mejor modelo: **LinearSVC**\n",
      "\n",
      "              precision    recall  f1-score   support\n",
      "\n",
      "           0      0.665     0.785     0.720     11740\n",
      "           1      0.921     0.864     0.892     34190\n",
      "\n",
      "    accuracy                          0.844     45930\n",
      "   macro avg      0.793     0.825     0.806     45930\n",
      "weighted avg      0.856     0.844     0.848     45930\n",
      "\n"
     ]
    }
   ],
   "source": [
    "print(\"\\nF1-macro en TEST:\", scores)\n",
    "\n",
    "best_name = max(scores, key=scores.get)\n",
    "print(f\"\\n Mejor modelo: **{best_name}**\\n\")\n",
    "print(reports[best_name])"
   ]
  },
  {
   "cell_type": "markdown",
   "id": "1380b4bc",
   "metadata": {},
   "source": [
    "## Resultados finales de los modelos de sentimiento\n",
    "\n",
    " Modelo | Vectorizador | Ajustes clave | F1-macro **(TEST)** | Comentario |\n",
    "|--------|--------------|--------------|--------------------|------------|\n",
    "| **Logistic Regression** | Bag-of-Words (1-2 gram) | `class_weight='balanced'`, `max_iter=1000` | **0.805** | Muy buen equilibrio *precision/recall*; entrega probabilidades (útil si necesitamos calibrar umbrales). |\n",
    "| **Linear SVC** | Bag-of-Words (1-2 gram) | `class_weight='balanced'`, `C=1.0` | **0.77** | Peor que LogReg. |\n",
    "| **TF-IDF + Linear SVC** *(pipeline optimizado)* | TF-IDF (1-2 gram, 60 k features, sublinear-tf) | `C = 0.5`, *GridSearchCV* (5 folds, estratificado por `asin`) | **0.808** | Mejor combinación validada; mantiene el contexto de frecuencia global y reduce sobre-peso de palabras raras. |"
   ]
  },
  {
   "cell_type": "code",
   "execution_count": 16,
   "id": "68c7c4cb",
   "metadata": {},
   "outputs": [
    {
     "data": {
      "image/png": "[encoded data removed]",
      "text/plain": [
       "<Figure size 600x400 with 1 Axes>"
      ]
     },
     "metadata": {},
     "output_type": "display_data"
    }
   ],
   "source": [
    "scores = {\n",
    "    \"LogReg\":    0.8048,\n",
    "    \"SVM\":       0.7787,\n",
    "    \"LinearSVC\": 0.8060\n",
    "}\n",
    "\n",
    "models     = list(scores.keys())\n",
    "f1_values  = list(scores.values())\n",
    "\n",
    "plt.figure(figsize=(6, 4))\n",
    "bars = plt.bar(models, f1_values, color=\"#f0a202\")  \n",
    "\n",
    "plt.ylim(0.75, 0.82)\n",
    "plt.ylabel(\"F1-macro\")\n",
    "plt.xlabel(\"Modelo\")\n",
    "plt.title(\"Comparación de F1-macro en TEST\")\n",
    "\n",
    "# etiquetas encima de cada barra\n",
    "for bar, value in zip(bars, f1_values):\n",
    "    plt.text(bar.get_x() + bar.get_width()/2,\n",
    "             value + 0.002,\n",
    "             f\"{value:.3f}\",\n",
    "             ha='center', va='bottom', fontsize=10)\n",
    "\n",
    "plt.tight_layout()\n",
    "plt.show()\n"
   ]
  },
  {
   "cell_type": "markdown",
   "id": "9ad5a6d9",
   "metadata": {},
   "source": [
    "### Validación y selección\n",
    "\n",
    "* **Cross-validation estratificada por grupos (`asin`)** – 5 folds  \n",
    "  *F1-macro CV = 0 .803 ± 0 .007* → estimación sin fuga de información entre reseñas del mismo juego.\n",
    "* **GridSearchCV** (30 ajustes) halló los hiper-parámetros óptimos:  \n",
    "\n",
    "  | Parámetro | Valor |\n",
    "  |-----------|------:|\n",
    "  | `tfidf__max_features` | **60 000** |\n",
    "  | `svc__C`              | **0.5** |\n",
    "\n",
    "  Regularización más fuerte (C ↓) y vocabulario compacto → menor sobre-ajuste y tiempos razonables.\n",
    "\n",
    "---\n",
    "\n",
    "### Conclusiones finales\n",
    "\n",
    "1. **Modelo ganador**: `TF-IDF(60 k) ➜ Linear SVC(C = 0.5)`  \n",
    "   *F1-macro ≈ 0.81, accuracy ≈ 0.84* → buen equilibrio precisión/recuperación en un corpus desbalanceado.\n",
    "2. **Cobertura negativa mejorada** – 78 % de las críticas “malas” se identifican correctamente; crucial para moderación o alertas de producto.\n",
    "\n"
   ]
  }
 ],
 "metadata": {
  "kernelspec": {
   "display_name": "Python 3",
   "language": "python",
   "name": "python3"
  },
  "language_info": {
   "codemirror_mode": {
    "name": "ipython",
    "version": 3
   },
   "file_extension": ".py",
   "mimetype": "text/x-python",
   "name": "python",
   "nbconvert_exporter": "python",
   "pygments_lexer": "ipython3",
   "version": "3.11.9"
  }
 },
 "nbformat": 4,
 "nbformat_minor": 5
}
